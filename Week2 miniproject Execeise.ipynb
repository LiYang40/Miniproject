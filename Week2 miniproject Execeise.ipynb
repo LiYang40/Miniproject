{
 "cells": [
  {
   "cell_type": "code",
   "execution_count": 1,
   "id": "7972fed8",
   "metadata": {},
   "outputs": [
    {
     "ename": "SyntaxError",
     "evalue": "invalid syntax (1091618426.py, line 1)",
     "output_type": "error",
     "traceback": [
      "\u001b[1;36m  Cell \u001b[1;32mIn[1], line 1\u001b[1;36m\u001b[0m\n\u001b[1;33m    Find the range of values for each of the following data types:\u001b[0m\n\u001b[1;37m         ^\u001b[0m\n\u001b[1;31mSyntaxError\u001b[0m\u001b[1;31m:\u001b[0m invalid syntax\n"
     ]
    }
   ],
   "source": [
    "#1. Find the range of values for each of the following data types:\n",
    "uint8\n",
    "int8\n",
    "uint32\n",
    "int32"
   ]
  },
  {
   "cell_type": "code",
   "execution_count": 4,
   "id": "71f74201",
   "metadata": {},
   "outputs": [
    {
     "name": "stdout",
     "output_type": "stream",
     "text": [
      "uint8 range:0 to 255\n",
      "int8 range: -128 to 127\n",
      "uint32 range: 0 to 4294967295\n",
      "int32 range: -2147483648 to 2147483647\n"
     ]
    }
   ],
   "source": [
    "import numpy as np\n",
    "\n",
    "#unit8 range\n",
    "uint8_min=np.iinfo(np.uint8).min\n",
    "uint8_max=np.iinfo(np.uint8).max\n",
    "print(f\"uint8 range:{ uint8_min } to {uint8_max}\")\n",
    "\n",
    "#int8 range\n",
    "int8_min=np.iinfo(np.int8).min\n",
    "int8_max=np.iinfo(np.int8).max\n",
    "print(f\"int8 range: { int8_min} to {int8_max}\")\n",
    "\n",
    "#uint32 range\n",
    "uint32_min=np.iinfo(np.uint32).min\n",
    "uint32_max=np.iinfo(np.uint32).max\n",
    "print(f\"uint32 range: { uint32_min} to {uint32_max}\")\n",
    "\n",
    "#int32 range\n",
    "int32_min=np.iinfo(np.int32).min\n",
    "int32_max=np.iinfo(np.int32).max\n",
    "print(f\"int32 range: { int32_min} to {int32_max}\")"
   ]
  },
  {
   "cell_type": "code",
   "execution_count": 5,
   "id": "0d141461",
   "metadata": {},
   "outputs": [],
   "source": [
    "#2. Try to write a simple custom function to determine whether a given integer is odd or even number."
   ]
  },
  {
   "cell_type": "code",
   "execution_count": 10,
   "id": "35749cbd",
   "metadata": {},
   "outputs": [],
   "source": [
    "def odd_even(x):\n",
    "    if x %2==1:\n",
    "        return(print(f\"The number is odd number\"))\n",
    "    if x%2==0:\n",
    "        return(print(f\"The number is even number\"))\n",
    "    else:\n",
    "        return(print(f\"The number is not a integer\"))\n",
    "        "
   ]
  },
  {
   "cell_type": "code",
   "execution_count": 13,
   "id": "af2baf54",
   "metadata": {},
   "outputs": [
    {
     "name": "stdout",
     "output_type": "stream",
     "text": [
      "The number is odd number\n",
      "The number is even number\n",
      "The number is not a integer\n"
     ]
    }
   ],
   "source": [
    "odd_even(7)\n",
    "odd_even(24)\n",
    "odd_even(3.5)"
   ]
  },
  {
   "cell_type": "code",
   "execution_count": 14,
   "id": "a845b911",
   "metadata": {},
   "outputs": [],
   "source": [
    "#3. Write a simple example code to show that Numpy is more efficient in numerical computation of large arrays of data than equivalent Python list."
   ]
  },
  {
   "cell_type": "code",
   "execution_count": 15,
   "id": "dac018fb",
   "metadata": {},
   "outputs": [],
   "source": [
    "import time"
   ]
  },
  {
   "cell_type": "code",
   "execution_count": 27,
   "id": "29cc0dd7",
   "metadata": {},
   "outputs": [
    {
     "name": "stdout",
     "output_type": "stream",
     "text": [
      "Time taken using Python lists: 0.03846 seconds\n",
      "Time taken using NumPy arrays: 0.00000 seconds\n"
     ]
    }
   ],
   "source": [
    "# Size of the arrays/lists\n",
    "size = 10**5\n",
    "\n",
    "# Creating large arrays&lists\n",
    "python_list1 = list(range(size))\n",
    "python_list2 = list(range(size))\n",
    "numpy_array1 = np.arange(size)\n",
    "numpy_array2 = np.arange(size)\n",
    "\n",
    "# Timing element-wise addition using Python lists\n",
    "start_time = time.time()\n",
    "python_result = [x + y for x, y in zip(python_list1, python_list2)]\n",
    "python_time = time.time() - start_time\n",
    "\n",
    "# Timing element-wise addition using NumPy arrays\n",
    "start_time = time.time()\n",
    "numpy_result = numpy_array1 + numpy_array2\n",
    "numpy_time = time.time() - start_time\n",
    "\n",
    "# Displaying the results\n",
    "print(f\"Time taken using Python lists: {python_time:.5f} seconds\")\n",
    "print(f\"Time taken using NumPy arrays: {numpy_time:.5f} seconds\")\n"
   ]
  },
  {
   "cell_type": "code",
   "execution_count": 28,
   "id": "f3c5090c",
   "metadata": {},
   "outputs": [
    {
     "ename": "IndentationError",
     "evalue": "unexpected indent (178253892.py, line 3)",
     "output_type": "error",
     "traceback": [
      "\u001b[1;36m  Cell \u001b[1;32mIn[28], line 3\u001b[1;36m\u001b[0m\n\u001b[1;33m    my_arr = np.arange(10)\u001b[0m\n\u001b[1;37m    ^\u001b[0m\n\u001b[1;31mIndentationError\u001b[0m\u001b[1;31m:\u001b[0m unexpected indent\n"
     ]
    }
   ],
   "source": [
    "#4. Run the following codes:\n",
    "    # create a 1D array\n",
    "    my_arr = np.arange(10)\n",
    "    print(\"Initial my_arr: \", my_arr)\n",
    "    arr_slice = my_arr\n",
    "    print(\"Initial arr_slice: \", arr_slice)\n",
    "\n",
    "    # change the first element of arr_slice\n",
    "    arr_slice[0] = 55\n",
    "\n",
    "    print(\"my_arr: \", my_arr)\n",
    "    print(\"arr_slice: \", arr_slice)\n",
    "What do you notice? Propose a way to reassign arr_slice with new value without modifying my_arr."
   ]
  },
  {
   "cell_type": "code",
   "execution_count": 29,
   "id": "ed9857f4",
   "metadata": {},
   "outputs": [
    {
     "name": "stdout",
     "output_type": "stream",
     "text": [
      "Initial my_arr:  [0 1 2 3 4 5 6 7 8 9]\n",
      "Initial arr_slice:  [0 1 2 3 4 5 6 7 8 9]\n",
      "my_arr:  [0 1 2 3 4 5 6 7 8 9]\n",
      "arr_slice:  [55  1  2  3  4  5  6  7  8  9]\n"
     ]
    }
   ],
   "source": [
    "# create a 1D array\n",
    "my_arr = np.arange(10)\n",
    "print(\"Initial my_arr: \", my_arr)\n",
    "#create a copy of y_arr\n",
    "arr_slice = my_arr.copy()\n",
    "print(\"Initial arr_slice: \", arr_slice)\n",
    "\n",
    "# change the first element of arr_slice\n",
    "arr_slice[0] = 55\n",
    "\n",
    "print(\"my_arr: \", my_arr)\n",
    "print(\"arr_slice: \", arr_slice)\n"
   ]
  },
  {
   "cell_type": "code",
   "execution_count": 25,
   "id": "bc22039e",
   "metadata": {},
   "outputs": [],
   "source": [
    "#5. Create an image as shown as the following with the help of Numpy and matplotlib modules. You can arbitrarily set the dimension of the image and white circular spot at the middle.\n"
   ]
  },
  {
   "cell_type": "code",
   "execution_count": 30,
   "id": "cde64836",
   "metadata": {},
   "outputs": [],
   "source": [
    "import matplotlib.pyplot as plt"
   ]
  },
  {
   "cell_type": "code",
   "execution_count": 44,
   "id": "d5e1b913",
   "metadata": {},
   "outputs": [
    {
     "data": {
      "image/png": "[encoded data removed]",
      "text/plain": [
       "<Figure size 640x480 with 1 Axes>"
      ]
     },
     "metadata": {},
     "output_type": "display_data"
    }
   ],
   "source": [
    "gray = np.zeros((200, 200), dtype=\"uint8\")\n",
    "center_x,center_y=width//2,height//2\n",
    "radius=50\n",
    "y,x =np.ogrid[:height,:width]\n",
    "mask=(x-center_x)**2 + (y-center_y)**2 <=radius**2\n",
    "gray[mask]=255\n",
    "plt.imshow(gray,cmap = plt.cm.gray)\n",
    "plt.xticks([]), plt.yticks([])\n",
    "plt.show()"
   ]
  },
  {
   "cell_type": "code",
   "execution_count": null,
   "id": "2ac2c3e9",
   "metadata": {},
   "outputs": [],
   "source": []
  }
 ],
 "metadata": {
  "kernelspec": {
   "display_name": "Python 3 (ipykernel)",
   "language": "python",
   "name": "python3"
  },
  "language_info": {
   "codemirror_mode": {
    "name": "ipython",
    "version": 3
   },
   "file_extension": ".py",
   "mimetype": "text/x-python",
   "name": "python",
   "nbconvert_exporter": "python",
   "pygments_lexer": "ipython3",
   "version": "3.10.9"
  }
 },
 "nbformat": 4,
 "nbformat_minor": 5
}
